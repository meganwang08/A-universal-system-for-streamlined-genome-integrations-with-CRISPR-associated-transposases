{
 "cells": [
  {
   "cell_type": "code",
   "execution_count": 41,
   "metadata": {},
   "outputs": [],
   "source": [
    "import os\n",
    "import subprocess\n",
    "from Bio.Seq import Seq\n",
    "import pandas as pd\n",
    "#Off-target junctions\n",
    "#L02: tattagccgcttacggaatg\n",
    "#L09: aaggcggatagcgatacaga\n",
    "#L14: gttaaggtcaaaccagttta\n",
    "#L21: cacaatacgattaaattaat"
   ]
  },
  {
   "cell_type": "code",
   "execution_count": 96,
   "metadata": {},
   "outputs": [
    {
     "data": {
      "text/plain": [
       "153"
      ]
     },
     "execution_count": 96,
     "metadata": {},
     "output_type": "execute_result"
    }
   ],
   "source": [
    "#miseq mini reference generator\n",
    "#first read files of just between the genome primers then read both LR and RL insert direction files\n",
    "#crRNA's\n",
    "#L02: accagacccgcgagcattaattcttgcctcca\n",
    "#L09: tggtggcggtggtgggagctattctcgttctg\n",
    "#L14: gaaaacacctgatatgaaaggcaatgccacca\n",
    "#L21: agctgcaacaatgttgaaaatgccagccaact\n",
    "path = 'sequencing-refs/L02/'\n",
    "genome_file = open(path + \"L02.fa\", \"r\")\n",
    "first = genome_file.readline()\n",
    "genome_str = genome_file.read()\n",
    "genome_file.close()\n",
    "genome_str = genome_str.replace('\\n','')\n",
    "\n",
    "RL_file = open(path + \"../R-sc-GFP-L.fa\", \"r\")\n",
    "first = RL_file.readline()\n",
    "RL_str = RL_file.read()\n",
    "RL_file.close()\n",
    "RL_str = RL_str.replace('\\n','')\n",
    "\n",
    "\n",
    "LR_file = open(path + \"../L-GFP-sc-R.fa\", \"r\")\n",
    "first = LR_file.readline()\n",
    "LR_str = LR_file.read()\n",
    "LR_file.close()\n",
    "LR_str = LR_str.replace('\\n','')\n",
    "\n",
    "crRNA = 'accagacccgcgagcattaattcttgcctcca'\n",
    "crRNA_ind = genome_str.index(crRNA) + 32\n",
    "crRNA_ind"
   ]
  },
  {
   "cell_type": "code",
   "execution_count": 97,
   "metadata": {},
   "outputs": [],
   "source": [
    "# start at 40th index after crRNA_ind and end at 61th\n",
    "counter = 40\n",
    "seed = []\n",
    "headers = []\n",
    "seed_window = 16\n",
    "while counter <= 61:\n",
    "    seed_1 = genome_str[crRNA_ind + counter - int(seed_window/2)-1: crRNA_ind + counter-1].upper() + RL_str[:8].upper()\n",
    "    seed_2 = genome_str[crRNA_ind + counter - int(seed_window/2)-1: crRNA_ind + counter-1].upper() + LR_str[:8].upper()\n",
    "    seed.append(seed_1)\n",
    "    seed.append(seed_2)\n",
    "    headers.append(f'>{counter}bp-RL-direction')\n",
    "    headers.append(f'>{counter}bp-LR-direction')\n",
    "    counter += 1\n",
    "seed[:-2]\n",
    "headers[:-2]\n",
    "seed_with_headers = {}\n",
    "for i in range(len(seed)):\n",
    "    seed_with_headers.update({headers[i]: seed[i]})"
   ]
  },
  {
   "cell_type": "code",
   "execution_count": 98,
   "metadata": {},
   "outputs": [],
   "source": [
    "path = 'sequencing-refs/L02-off-target/'\n",
    "with open(path+ 'off-tar-' +\"L02.fastq\") as file:\n",
    "    lines = [line.rstrip() for line in file]\n",
    "line_index = [x for x in range(len(lines)) if \"@\" in lines[x]]\n",
    "reads = []\n",
    "for i in line_index:\n",
    "    reads.append(lines[i+1])\n",
    "with open(path + 'reads.txt', 'w') as f:\n",
    "    for x in reads:\n",
    "        f.write(\"%s\\n\" % x)\n",
    "reads_file = path + 'reads.txt'"
   ]
  },
  {
   "cell_type": "code",
   "execution_count": 99,
   "metadata": {},
   "outputs": [
    {
     "data": {
      "text/plain": [
       "0"
      ]
     },
     "execution_count": 99,
     "metadata": {},
     "output_type": "execute_result"
    }
   ],
   "source": [
    "off_tar_seed = 'tattagccgcttacggaatg'.upper()\n",
    "off_tar_output53 = path + 'off-tar-output53.txt'\n",
    "off_tar_output35 = path + 'off-tar-output35.txt'\n",
    "os.remove(off_tar_output53)\n",
    "os.remove(off_tar_output35)\n",
    "seq = Seq(off_tar_seed)\n",
    "os.system(f'grep {off_tar_seed} {reads_file} | wc -l >> {off_tar_output53}')\n",
    "os.system(f'grep {seq.reverse_complement()} {reads_file} | wc -l >> {off_tar_output35}')"
   ]
  },
  {
   "cell_type": "code",
   "execution_count": 100,
   "metadata": {},
   "outputs": [],
   "source": [
    "output53 = path + 'output53.txt'\n",
    "output35 = path + 'output35.txt'\n",
    "os.remove(output53)\n",
    "os.remove(output35)\n",
    "for x in seed_with_headers.values():\n",
    "    seq = Seq(x)\n",
    "    os.system(f'grep {x} {reads_file} | wc -l >> {output53}')\n",
    "    os.system(f'grep {seq.reverse_complement()} {reads_file} | wc -l >> {output35}')"
   ]
  },
  {
   "cell_type": "code",
   "execution_count": 38,
   "metadata": {},
   "outputs": [],
   "source": [
    "path = 'sequencing-refs/L21-off-target/'\n",
    "output53 = path + 'output53.txt'\n",
    "output35 = path + 'output35.txt'\n",
    "off_tar_output53 = path + 'off-tar-output53.txt'\n",
    "off_tar_output35 = path + 'off-tar-output35.txt' \n",
    "o53 = open(output53, 'r')\n",
    "o35 = open(output53, 'r')\n",
    "ot_o53 = open(off_tar_output53, 'r')\n",
    "ot_o35 = open(off_tar_output35, 'r')\n",
    "o53_lines = [int(line.rstrip()) for line in o53]\n",
    "o35_lines = [int(line.rstrip()) for line in o35]\n",
    "ot_o53_lines = [int(line.rstrip()) for line in ot_o53]\n",
    "ot_o35_lines = [int(line.rstrip()) for line in ot_o35]\n",
    "on_target_sum = sum(o53_lines) + sum(o35_lines)\n",
    "off_target_sum = sum(ot_o53_lines) + sum(ot_o35_lines)"
   ]
  },
  {
   "cell_type": "code",
   "execution_count": 30,
   "metadata": {},
   "outputs": [],
   "source": [
    "df = pd.DataFrame(columns = ['loci', 'proportion', 'on or off'])"
   ]
  },
  {
   "cell_type": "code",
   "execution_count": 39,
   "metadata": {},
   "outputs": [],
   "source": [
    "off_tar = off_target_sum/(on_target_sum + off_target_sum)\n",
    "on_tar = on_target_sum/(on_target_sum + off_target_sum)\n",
    "df.loc[len(df)] = ['L21', on_tar*100, 'On-Target']\n",
    "df.loc[len(df)] = ['L21', off_tar*100, 'Off-Target']"
   ]
  },
  {
   "cell_type": "code",
   "execution_count": 43,
   "metadata": {},
   "outputs": [
    {
     "data": {
      "text/html": [
       "<div>\n",
       "<style scoped>\n",
       "    .dataframe tbody tr th:only-of-type {\n",
       "        vertical-align: middle;\n",
       "    }\n",
       "\n",
       "    .dataframe tbody tr th {\n",
       "        vertical-align: top;\n",
       "    }\n",
       "\n",
       "    .dataframe thead th {\n",
       "        text-align: right;\n",
       "    }\n",
       "</style>\n",
       "<table border=\"1\" class=\"dataframe\">\n",
       "  <thead>\n",
       "    <tr style=\"text-align: right;\">\n",
       "      <th></th>\n",
       "      <th>loci</th>\n",
       "      <th>proportion</th>\n",
       "      <th>on or off</th>\n",
       "    </tr>\n",
       "  </thead>\n",
       "  <tbody>\n",
       "    <tr>\n",
       "      <th>0</th>\n",
       "      <td>L02</td>\n",
       "      <td>97.314801</td>\n",
       "      <td>On-Target</td>\n",
       "    </tr>\n",
       "    <tr>\n",
       "      <th>1</th>\n",
       "      <td>L02</td>\n",
       "      <td>2.685199</td>\n",
       "      <td>Off-Target</td>\n",
       "    </tr>\n",
       "    <tr>\n",
       "      <th>2</th>\n",
       "      <td>L09</td>\n",
       "      <td>98.853060</td>\n",
       "      <td>On-Target</td>\n",
       "    </tr>\n",
       "    <tr>\n",
       "      <th>3</th>\n",
       "      <td>L09</td>\n",
       "      <td>1.146940</td>\n",
       "      <td>Off-Target</td>\n",
       "    </tr>\n",
       "    <tr>\n",
       "      <th>4</th>\n",
       "      <td>L14</td>\n",
       "      <td>98.251113</td>\n",
       "      <td>On-Target</td>\n",
       "    </tr>\n",
       "    <tr>\n",
       "      <th>5</th>\n",
       "      <td>L14</td>\n",
       "      <td>1.748887</td>\n",
       "      <td>Off-Target</td>\n",
       "    </tr>\n",
       "    <tr>\n",
       "      <th>6</th>\n",
       "      <td>L21</td>\n",
       "      <td>98.283996</td>\n",
       "      <td>On-Target</td>\n",
       "    </tr>\n",
       "    <tr>\n",
       "      <th>7</th>\n",
       "      <td>L21</td>\n",
       "      <td>1.716004</td>\n",
       "      <td>Off-Target</td>\n",
       "    </tr>\n",
       "  </tbody>\n",
       "</table>\n",
       "</div>"
      ],
      "text/plain": [
       "  loci  proportion   on or off\n",
       "0  L02   97.314801   On-Target\n",
       "1  L02    2.685199  Off-Target\n",
       "2  L09   98.853060   On-Target\n",
       "3  L09    1.146940  Off-Target\n",
       "4  L14   98.251113   On-Target\n",
       "5  L14    1.748887  Off-Target\n",
       "6  L21   98.283996   On-Target\n",
       "7  L21    1.716004  Off-Target"
      ]
     },
     "execution_count": 43,
     "metadata": {},
     "output_type": "execute_result"
    }
   ],
   "source": [
    "df.to_csv(path + '../on-vs-off-target.csv')\n",
    "df"
   ]
  }
 ],
 "metadata": {
  "kernelspec": {
   "display_name": "Python 3",
   "language": "python",
   "name": "python3"
  },
  "language_info": {
   "codemirror_mode": {
    "name": "ipython",
    "version": 3
   },
   "file_extension": ".py",
   "mimetype": "text/x-python",
   "name": "python",
   "nbconvert_exporter": "python",
   "pygments_lexer": "ipython3",
   "version": "3.8.5"
  }
 },
 "nbformat": 4,
 "nbformat_minor": 4
}
